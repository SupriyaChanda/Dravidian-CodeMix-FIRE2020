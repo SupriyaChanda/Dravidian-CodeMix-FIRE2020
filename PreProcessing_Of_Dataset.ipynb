{
  "nbformat": 4,
  "nbformat_minor": 0,
  "metadata": {
    "colab": {
      "name": "PreProcessing_Of_Dataset.ipynb",
      "provenance": []
    },
    "kernelspec": {
      "name": "python3",
      "display_name": "Python 3"
    }
  },
  "cells": [
    {
      "cell_type": "code",
      "metadata": {
        "id": "MRvbFWOGuIgT",
        "outputId": "1b63d6e1-ba1e-4797-88d4-8800540ef916",
        "colab": {
          "base_uri": "https://localhost:8080/",
          "height": 233
        }
      },
      "source": [
        "!gdown --id 15awsvzoB_Fwhgtd2-zyb622P2X0o3_0h  #tamil_train_11335.tsv file\n",
        "!gdown --id 15awsvzoB_Fwhgtd2-zyb622P2X0o3_1h  #tamil_dev _1260.tsv\n",
        "!gdown --id 15awsvzoB_Fwhgtd2-zyb622P2X0o3_2h  #tamil_test_3149.tsv"
      ],
      "execution_count": null,
      "outputs": [
        {
          "output_type": "stream",
          "text": [
            "Downloading...\n",
            "From: https://drive.google.com/uc?id=15awsvzoB_FwQXo2-zyb622P2X0o3_0h9\n",
            "To: /content/tamil_train_11335.tsv\n",
            "100% 699k/699k [00:00<00:00, 46.7MB/s]\n",
            "Downloading...\n",
            "From: https://drive.google.com/uc?id=1zMplevqaFhL-sAODG8F8exWstv_piKZR\n",
            "To: /content/tamil_dev _1260.tsv\n",
            "100% 79.5k/79.5k [00:00<00:00, 24.2MB/s]\n",
            "Downloading...\n",
            "From: https://drive.google.com/uc?id=1oXJPvn-uqucPirIb2N31QklG8g5Pj2q2\n",
            "To: /content/tamil_test_3149.tsv\n",
            "100% 227k/227k [00:00<00:00, 76.9MB/s]\n"
          ],
          "name": "stdout"
        }
      ]
    },
    {
      "cell_type": "code",
      "metadata": {
        "id": "gCgeyZW8eLxN"
      },
      "source": [
        "import numpy as np\n",
        "import pandas as pd\n",
        "import re"
      ],
      "execution_count": null,
      "outputs": []
    },
    {
      "cell_type": "code",
      "metadata": {
        "id": "jMliluxZeAOG"
      },
      "source": [
        "trainData = pd.read_csv(\"/content/tamil_train_11335.tsv\",sep=\"\\t\",header=0)\n",
        "valData = pd.read_csv(\"/content/tamil_dev _1260.tsv\",sep=\"\\t\",header=0)\n",
        "testData = pd.read_csv(\"/content/tamil_test_3149.tsv\",sep=\"\\t\",header=0)"
      ],
      "execution_count": null,
      "outputs": []
    },
    {
      "cell_type": "code",
      "metadata": {
        "id": "aOvQ91HseP-t",
        "outputId": "7700c304-4c22-4637-9d69-7d83dda7d75a",
        "colab": {
          "base_uri": "https://localhost:8080/",
          "height": 419
        }
      },
      "source": [
        "trainData"
      ],
      "execution_count": null,
      "outputs": [
        {
          "output_type": "execute_result",
          "data": {
            "text/html": [
              "<div>\n",
              "<style scoped>\n",
              "    .dataframe tbody tr th:only-of-type {\n",
              "        vertical-align: middle;\n",
              "    }\n",
              "\n",
              "    .dataframe tbody tr th {\n",
              "        vertical-align: top;\n",
              "    }\n",
              "\n",
              "    .dataframe thead th {\n",
              "        text-align: right;\n",
              "    }\n",
              "</style>\n",
              "<table border=\"1\" class=\"dataframe\">\n",
              "  <thead>\n",
              "    <tr style=\"text-align: right;\">\n",
              "      <th></th>\n",
              "      <th>text</th>\n",
              "      <th>category</th>\n",
              "    </tr>\n",
              "  </thead>\n",
              "  <tbody>\n",
              "    <tr>\n",
              "      <th>0</th>\n",
              "      <td>Trailer late ah parthavanga like podunga</td>\n",
              "      <td>0</td>\n",
              "    </tr>\n",
              "    <tr>\n",
              "      <th>1</th>\n",
              "      <td>Move pathutu vanthu trailer pakurvnga yaru</td>\n",
              "      <td>0</td>\n",
              "    </tr>\n",
              "    <tr>\n",
              "      <th>2</th>\n",
              "      <td>Puthupetai dhanush  ah yarellam pathinga</td>\n",
              "      <td>0</td>\n",
              "    </tr>\n",
              "    <tr>\n",
              "      <th>3</th>\n",
              "      <td>Dhanush oda character ,puthu sa erukay , mass ta</td>\n",
              "      <td>0</td>\n",
              "    </tr>\n",
              "    <tr>\n",
              "      <th>4</th>\n",
              "      <td>vera level ippa pesungada mokka nu thalaivaaaaaa</td>\n",
              "      <td>0</td>\n",
              "    </tr>\n",
              "    <tr>\n",
              "      <th>...</th>\n",
              "      <td>...</td>\n",
              "      <td>...</td>\n",
              "    </tr>\n",
              "    <tr>\n",
              "      <th>11330</th>\n",
              "      <td>Yuvan shankar Raja anna fan's like here...</td>\n",
              "      <td>0</td>\n",
              "    </tr>\n",
              "    <tr>\n",
              "      <th>11331</th>\n",
              "      <td>A masterpiece best revenge film I’ve ever scene</td>\n",
              "      <td>0</td>\n",
              "    </tr>\n",
              "    <tr>\n",
              "      <th>11332</th>\n",
              "      <td>Enna pa thala ya kamiya than katringa</td>\n",
              "      <td>0</td>\n",
              "    </tr>\n",
              "    <tr>\n",
              "      <th>11333</th>\n",
              "      <td>R A A S H I K H A N N A</td>\n",
              "      <td>3</td>\n",
              "    </tr>\n",
              "    <tr>\n",
              "      <th>11334</th>\n",
              "      <td>Trailer la nalla thaan iruku ana sound thaan k...</td>\n",
              "      <td>3</td>\n",
              "    </tr>\n",
              "  </tbody>\n",
              "</table>\n",
              "<p>11335 rows × 2 columns</p>\n",
              "</div>"
            ],
            "text/plain": [
              "                                                    text  category\n",
              "0               Trailer late ah parthavanga like podunga         0\n",
              "1             Move pathutu vanthu trailer pakurvnga yaru         0\n",
              "2               Puthupetai dhanush  ah yarellam pathinga         0\n",
              "3       Dhanush oda character ,puthu sa erukay , mass ta         0\n",
              "4       vera level ippa pesungada mokka nu thalaivaaaaaa         0\n",
              "...                                                  ...       ...\n",
              "11330         Yuvan shankar Raja anna fan's like here...         0\n",
              "11331    A masterpiece best revenge film I’ve ever scene         0\n",
              "11332              Enna pa thala ya kamiya than katringa         0\n",
              "11333                            R A A S H I K H A N N A         3\n",
              "11334  Trailer la nalla thaan iruku ana sound thaan k...         3\n",
              "\n",
              "[11335 rows x 2 columns]"
            ]
          },
          "metadata": {
            "tags": []
          },
          "execution_count": 7
        }
      ]
    },
    {
      "cell_type": "code",
      "metadata": {
        "id": "30eqWPWrKWk7"
      },
      "source": [
        "#HappyEmoticons\n",
        "emoticons_happy = set([\n",
        "    ':-)', ':)', ';)', ':o)', ':]', ':3', ':c)', ':>', '=]', '8)', '=)', ':}',\n",
        "    ':^)', ':-D', ':D', '8-D', '8D', 'x-D', 'xD', 'X-D', 'XD', '=-D', '=D',\n",
        "    '=-3', '=3', ':-))', \":'-)\", \":')\", ':*', ':^*', '>:P', ':-P', ':P', 'X-P',\n",
        "    'x-p', 'xp', 'XP', ':-p', ':p', '=p', ':-b', ':b', '>:)', '>;)', '>:-)',\n",
        "    '<3'\n",
        "    ])\n",
        "# Sad Emoticons\n",
        "emoticons_sad = set([\n",
        "    ':L', ':-/', '>:/', ':S', '>:[', ':@', ':-(', ':[', ':-||', '=L', ':<',\n",
        "    ':-[', ':-<', '=\\\\', '=/', '>:(', ':(', '>.<', \":'-(\", \":'(\", ':\\\\', ':-c',\n",
        "    ':c', ':{', '>:\\\\', ';('\n",
        "    ])\n",
        "\n",
        "emoticons = emoticons_happy.union(emoticons_sad)\n",
        "\n",
        "emoji_pattern = re.compile(\"[\"\n",
        "         u\"\\U0001F600-\\U0001F64F\"  # For emoticons\n",
        "         u\"\\U0001F300-\\U0001F5FF\"  # For symbols & pictographs\n",
        "         u\"\\U0001F680-\\U0001F6FF\"  # For transport & map symbols\n",
        "         u\"\\U0001F1E0-\\U0001F1FF\"  # For flags (iOS)\n",
        "         u\"\\U00002702-\\U000027B0\"\n",
        "         u\"\\U000024C2-\\U0001F251\"\n",
        "         \"]+\", flags=re.UNICODE)"
      ],
      "execution_count": null,
      "outputs": []
    },
    {
      "cell_type": "code",
      "metadata": {
        "id": "8UrMEWh0tJDT"
      },
      "source": [
        "import string\n",
        "def data_clean(text):\n",
        "    text  = \"\".join([char for char in text if char not in string.punctuation])\n",
        "    text  = \"\".join([char for char in text if char not in emoticons])\n",
        "    text = re.sub(r'(\\\\u[0-9A-Fa-f]+)',r'', text)\n",
        "    text = re.sub('[0-9]+', '', text)\n",
        "    text = re.sub('@[A-Za-z0-9]+', '', text)\n",
        "    text = re.sub('https?://[A-Za-z0-9./]+', '', text)\n",
        "    text = re.sub(r'[^\\x00-\\x7F]+',' ', text)\n",
        "    text = re.sub(r'\\s+', ' ', text)\n",
        "    text = re.sub(r'#([^\\s]+)', r'\\1', text)\n",
        "    text = emoji_pattern.sub(r'', text)\n",
        "    text = text.lower()\n",
        "    text = text.strip('\\'\"')\n",
        "    text = re.sub(r'\\b\\w{20,100}\\b', '', text)\n",
        "    return text"
      ],
      "execution_count": null,
      "outputs": []
    },
    {
      "cell_type": "code",
      "metadata": {
        "id": "Pa5pbKNzw9sY"
      },
      "source": [
        "import string\n",
        "def remove_extra_character(text):\n",
        "    x = text.split()\n",
        "\t  #print(x)\n",
        "\n",
        "    for i in range(0,len(x)):\n",
        "\t      #print(x[i])\n",
        "\t      #print(type(x[i]))\n",
        "        curr = \"\"\n",
        "        for j in range(len(x[i])):\n",
        "            if j < len(x[i]) - 1 :\n",
        "\t              curr_char = x[i][j]\n",
        "\t              next_char = x[i][j+1]\n",
        "\t              if curr_char!=next_char :\n",
        "\t                  curr += curr_char\n",
        "        curr += x[i][len(x[i])-1]\n",
        "        x[i] = curr\n",
        "\t  #print(x)\n",
        "    text = (\" \").join(x)\n",
        "    return(text)"
      ],
      "execution_count": null,
      "outputs": []
    },
    {
      "cell_type": "code",
      "metadata": {
        "id": "XpEE9YDQtKpI",
        "outputId": "c24a8809-cc84-4c2b-f259-becbc426e9f4",
        "colab": {
          "base_uri": "https://localhost:8080/",
          "height": 197
        }
      },
      "source": [
        "trainData['text'] = trainData['text'].apply(lambda x: data_clean(x))\n",
        "valData['text'] = valData['text'].apply(lambda x: data_clean(x))\n",
        "testData['text'] = testData['text'].apply(lambda x: data_clean(x))\n",
        "list(trainData.text.head(10))"
      ],
      "execution_count": null,
      "outputs": [
        {
          "output_type": "execute_result",
          "data": {
            "text/plain": [
              "['trailer late ah parthavanga like podunga',\n",
              " 'move pathutu vanthu trailer pakurvnga yaru',\n",
              " 'puthupetai dhanush ah yarellam pathinga',\n",
              " 'dhanush oda character puthu sa erukay mass ta',\n",
              " 'vera level ippa pesungada mokka nu thalaivaaaaaa',\n",
              " 'thala mass u bgm vera level',\n",
              " 'ivara pathta death vadi madiri irukku',\n",
              " ' s kids reference maadila irunthu kudicha shakthiman kaapathvaaru',\n",
              " 'aiyoo thala mass pannita thala',\n",
              " 'enpt ku kaathu kadanthathellam oru nimishathula poiruchu']"
            ]
          },
          "metadata": {
            "tags": []
          },
          "execution_count": 11
        }
      ]
    },
    {
      "cell_type": "code",
      "metadata": {
        "id": "EQAZiQNpyuLY",
        "outputId": "94dcd3d5-ea93-4675-964e-208f84370668",
        "colab": {
          "base_uri": "https://localhost:8080/",
          "height": 197
        }
      },
      "source": [
        "trainData['text'] = trainData['text'].apply(lambda x: remove_extra_character(x))\n",
        "valData['text'] = valData['text'].apply(lambda x: remove_extra_character(x))\n",
        "testData['text'] = testData['text'].apply(lambda x: remove_extra_character(x))\n",
        "list(trainData.text.head(10))"
      ],
      "execution_count": null,
      "outputs": [
        {
          "output_type": "execute_result",
          "data": {
            "text/plain": [
              "['trailer late ah parthavanga like podunga',\n",
              " 'move pathutu vanthu trailer pakurvnga yaru',\n",
              " 'puthupetai dhanush ah yarelam pathinga',\n",
              " 'dhanush oda character puthu sa erukay mas ta',\n",
              " 'vera level ipa pesungada moka nu thalaiva',\n",
              " 'thala mas u bgm vera level',\n",
              " 'ivara pathta death vadi madiri iruku',\n",
              " 's kids reference madila irunthu kudicha shakthiman kapathvaru',\n",
              " 'aiyo thala mas panita thala',\n",
              " 'enpt ku kathu kadanthathelam oru nimishathula poiruchu']"
            ]
          },
          "metadata": {
            "tags": []
          },
          "execution_count": 21
        }
      ]
    },
    {
      "cell_type": "code",
      "metadata": {
        "id": "_6mNzL05zVgF"
      },
      "source": [
        ""
      ],
      "execution_count": null,
      "outputs": []
    }
  ]
}